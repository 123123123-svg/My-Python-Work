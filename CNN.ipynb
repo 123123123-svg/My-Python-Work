{
  "nbformat": 4,
  "nbformat_minor": 0,
  "metadata": {
    "colab": {
      "name": "Untitled0.ipynb",
      "provenance": []
    },
    "kernelspec": {
      "name": "python3",
      "display_name": "Python 3"
    },
    "accelerator": "TPU"
  },
  "cells": [
    {
      "cell_type": "code",
      "metadata": {
        "id": "DsedSK7N0HlL",
        "colab_type": "code",
        "colab": {}
      },
      "source": [
        "%matplotlib inline\n",
        "import numpy as np\n",
        "import matplotlib.pyplot as plt\n",
        "import tensorflow as tf"
      ],
      "execution_count": 0,
      "outputs": []
    },
    {
      "cell_type": "code",
      "metadata": {
        "id": "KB1sTmaK19VD",
        "colab_type": "code",
        "colab": {
          "base_uri": "https://localhost:8080/",
          "height": 156
        },
        "outputId": "ecb85f4a-2a7d-48c3-c7eb-1701fdea46e9"
      },
      "source": [
        "from tensorflow.keras.datasets import fashion_mnist\n",
        "(x_train, y_train), (x_test, y_test) = fashion_mnist.load_data()"
      ],
      "execution_count": 2,
      "outputs": [
        {
          "output_type": "stream",
          "text": [
            "Downloading data from https://storage.googleapis.com/tensorflow/tf-keras-datasets/train-labels-idx1-ubyte.gz\n",
            "32768/29515 [=================================] - 0s 0us/step\n",
            "Downloading data from https://storage.googleapis.com/tensorflow/tf-keras-datasets/train-images-idx3-ubyte.gz\n",
            "26427392/26421880 [==============================] - 0s 0us/step\n",
            "Downloading data from https://storage.googleapis.com/tensorflow/tf-keras-datasets/t10k-labels-idx1-ubyte.gz\n",
            "8192/5148 [===============================================] - 0s 0us/step\n",
            "Downloading data from https://storage.googleapis.com/tensorflow/tf-keras-datasets/t10k-images-idx3-ubyte.gz\n",
            "4423680/4422102 [==============================] - 0s 0us/step\n"
          ],
          "name": "stdout"
        }
      ]
    },
    {
      "cell_type": "code",
      "metadata": {
        "id": "yC53u7B_24jX",
        "colab_type": "code",
        "colab": {
          "base_uri": "https://localhost:8080/",
          "height": 283
        },
        "outputId": "f9273d62-b6e1-4dc5-ca94-90d5bbc00e8f"
      },
      "source": [
        "n=3000\n",
        "class_names = ['T-shirt/top', 'Trouser', 'Pullover', 'Dress', 'Coat',\n",
        "               'Sandal', 'Shirt', 'Sneaker', 'Bag', 'Ankle boot']\n",
        "print(class_names[y_train[n]])\n",
        "plt.imshow(x_train[n], cmap='Greys');"
      ],
      "execution_count": 3,
      "outputs": [
        {
          "output_type": "stream",
          "text": [
            "Shirt\n"
          ],
          "name": "stdout"
        },
        {
          "output_type": "display_data",
          "data": {
            "image/png": "[encoded data removed]",
            "text/plain": [
              "<Figure size 432x288 with 1 Axes>"
            ]
          },
          "metadata": {
            "tags": [],
            "needs_background": "light"
          }
        }
      ]
    },
    {
      "cell_type": "code",
      "metadata": {
        "id": "NQpe1ZKX3BsC",
        "colab_type": "code",
        "colab": {}
      },
      "source": [
        "from tensorflow.keras.utils import to_categorical"
      ],
      "execution_count": 0,
      "outputs": []
    },
    {
      "cell_type": "code",
      "metadata": {
        "id": "7R5SqDgJ3FD4",
        "colab_type": "code",
        "colab": {}
      },
      "source": [
        "y_train = to_categorical(y_train)\n",
        "y_test_ = to_categorical(y_test)"
      ],
      "execution_count": 0,
      "outputs": []
    },
    {
      "cell_type": "code",
      "metadata": {
        "id": "WuXavsL_3JiV",
        "colab_type": "code",
        "colab": {}
      },
      "source": [
        "x_train = x_train/255\n",
        "x_test = x_test/255"
      ],
      "execution_count": 0,
      "outputs": []
    },
    {
      "cell_type": "code",
      "metadata": {
        "id": "FvFucbGj3O0_",
        "colab_type": "code",
        "colab": {}
      },
      "source": [
        "x_train = x_train.reshape(60000, 28, 28, 1)\n",
        "x_test = x_test.reshape(10000, 28, 28, 1)"
      ],
      "execution_count": 0,
      "outputs": []
    },
    {
      "cell_type": "code",
      "metadata": {
        "id": "iW8YKZYb4Fyt",
        "colab_type": "code",
        "colab": {}
      },
      "source": [
        "from tensorflow.keras.models import Sequential\n",
        "from tensorflow.keras.layers import Conv2D, MaxPooling2D\n",
        "from tensorflow.keras.layers import Dense, Flatten\n",
        "from tensorflow.keras.optimizers import SGD"
      ],
      "execution_count": 0,
      "outputs": []
    },
    {
      "cell_type": "code",
      "metadata": {
        "id": "AHXAvu_24MvG",
        "colab_type": "code",
        "colab": {}
      },
      "source": [
        "model = Sequential()"
      ],
      "execution_count": 0,
      "outputs": []
    },
    {
      "cell_type": "code",
      "metadata": {
        "id": "EWnEBFNl4TID",
        "colab_type": "code",
        "colab": {}
      },
      "source": [
        "model.add(Conv2D(16, (3,3), padding='same', input_shape=(28,28,1), activation = 'relu'))\n"
      ],
      "execution_count": 0,
      "outputs": []
    },
    {
      "cell_type": "code",
      "metadata": {
        "id": "GDXDi3r75wj_",
        "colab_type": "code",
        "colab": {}
      },
      "source": [
        "#輸出依舊為28*28,chanel=16"
      ],
      "execution_count": 0,
      "outputs": []
    },
    {
      "cell_type": "code",
      "metadata": {
        "id": "Z_sA64956V-m",
        "colab_type": "code",
        "colab": {}
      },
      "source": [
        "model.add(MaxPooling2D(pool_size=(2,2)))"
      ],
      "execution_count": 0,
      "outputs": []
    },
    {
      "cell_type": "code",
      "metadata": {
        "id": "SHrygIYF6jis",
        "colab_type": "code",
        "colab": {}
      },
      "source": [
        "#用2*2去掃使他輸出變一半"
      ],
      "execution_count": 0,
      "outputs": []
    },
    {
      "cell_type": "code",
      "metadata": {
        "id": "EcsFdHb_7Iqb",
        "colab_type": "code",
        "colab": {}
      },
      "source": [
        "model.add(Conv2D(32, (3,3), padding='same', activation = 'relu'))"
      ],
      "execution_count": 0,
      "outputs": []
    },
    {
      "cell_type": "code",
      "metadata": {
        "id": "TWVJjLZE7Vnd",
        "colab_type": "code",
        "colab": {}
      },
      "source": [
        "model.add(MaxPooling2D(pool_size=(2,2)))"
      ],
      "execution_count": 0,
      "outputs": []
    },
    {
      "cell_type": "code",
      "metadata": {
        "id": "BMv3Ka7H7hd9",
        "colab_type": "code",
        "colab": {}
      },
      "source": [
        "model.add(Conv2D(64, (3,3), padding='same', activation = 'relu'))"
      ],
      "execution_count": 0,
      "outputs": []
    },
    {
      "cell_type": "code",
      "metadata": {
        "id": "7hRcEfM87k5i",
        "colab_type": "code",
        "colab": {}
      },
      "source": [
        "model.add(MaxPooling2D(pool_size=(2,2)))"
      ],
      "execution_count": 0,
      "outputs": []
    },
    {
      "cell_type": "code",
      "metadata": {
        "id": "KA981BpB7u31",
        "colab_type": "code",
        "colab": {}
      },
      "source": [
        "model.add(Flatten())\n"
      ],
      "execution_count": 0,
      "outputs": []
    },
    {
      "cell_type": "code",
      "metadata": {
        "id": "8lwbw5pf8CbI",
        "colab_type": "code",
        "colab": {}
      },
      "source": [
        "model.add(Dense(60, activation='relu'))"
      ],
      "execution_count": 0,
      "outputs": []
    },
    {
      "cell_type": "code",
      "metadata": {
        "id": "ijHF7dWy8ON4",
        "colab_type": "code",
        "colab": {}
      },
      "source": [
        "model.add(Dense(10, activation='softmax'))"
      ],
      "execution_count": 0,
      "outputs": []
    },
    {
      "cell_type": "code",
      "metadata": {
        "id": "0lQr2LeD8QxG",
        "colab_type": "code",
        "colab": {}
      },
      "source": [
        "model.compile(loss='mse', optimizer=SGD(lr=0.07), metrics=['accuracy'])"
      ],
      "execution_count": 0,
      "outputs": []
    },
    {
      "cell_type": "code",
      "metadata": {
        "id": "XusRBUx_8vrw",
        "colab_type": "code",
        "colab": {
          "base_uri": "https://localhost:8080/",
          "height": 468
        },
        "outputId": "3e44181b-83eb-4cf0-a798-b2c78b317c73"
      },
      "source": [
        "model.summary()"
      ],
      "execution_count": 22,
      "outputs": [
        {
          "output_type": "stream",
          "text": [
            "Model: \"sequential\"\n",
            "_________________________________________________________________\n",
            "Layer (type)                 Output Shape              Param #   \n",
            "=================================================================\n",
            "conv2d (Conv2D)              (None, 28, 28, 16)        160       \n",
            "_________________________________________________________________\n",
            "max_pooling2d (MaxPooling2D) (None, 14, 14, 16)        0         \n",
            "_________________________________________________________________\n",
            "conv2d_1 (Conv2D)            (None, 14, 14, 32)        4640      \n",
            "_________________________________________________________________\n",
            "max_pooling2d_1 (MaxPooling2 (None, 7, 7, 32)          0         \n",
            "_________________________________________________________________\n",
            "conv2d_2 (Conv2D)            (None, 7, 7, 64)          18496     \n",
            "_________________________________________________________________\n",
            "max_pooling2d_2 (MaxPooling2 (None, 3, 3, 64)          0         \n",
            "_________________________________________________________________\n",
            "flatten (Flatten)            (None, 576)               0         \n",
            "_________________________________________________________________\n",
            "dense (Dense)                (None, 60)                34620     \n",
            "_________________________________________________________________\n",
            "dense_1 (Dense)              (None, 10)                610       \n",
            "=================================================================\n",
            "Total params: 58,526\n",
            "Trainable params: 58,526\n",
            "Non-trainable params: 0\n",
            "_________________________________________________________________\n"
          ],
          "name": "stdout"
        }
      ]
    },
    {
      "cell_type": "code",
      "metadata": {
        "id": "raPGBza78zj4",
        "colab_type": "code",
        "colab": {}
      },
      "source": [
        "#(3*3*1+1)*16 = 160(以此類推)\n",
        "\n",
        "#Flatten output = 元素數*channel\n",
        "#576 = 3*3*64\n"
      ],
      "execution_count": 0,
      "outputs": []
    },
    {
      "cell_type": "code",
      "metadata": {
        "id": "-MbBVdp_-TJy",
        "colab_type": "code",
        "colab": {
          "base_uri": "https://localhost:8080/",
          "height": 921
        },
        "outputId": "b2b0b3d8-6f54-47d8-c2ce-23a86059e8c3"
      },
      "source": [
        "model.fit(x_train, y_train, batch_size=150, epochs=25)"
      ],
      "execution_count": 23,
      "outputs": [
        {
          "output_type": "stream",
          "text": [
            "Epoch 1/25\n",
            "400/400 [==============================] - 40s 100ms/step - loss: 0.0896 - accuracy: 0.1200\n",
            "Epoch 2/25\n",
            "400/400 [==============================] - 40s 100ms/step - loss: 0.0887 - accuracy: 0.2363\n",
            "Epoch 3/25\n",
            "400/400 [==============================] - 40s 100ms/step - loss: 0.0867 - accuracy: 0.3180\n",
            "Epoch 4/25\n",
            "400/400 [==============================] - 40s 100ms/step - loss: 0.0748 - accuracy: 0.4544\n",
            "Epoch 5/25\n",
            "400/400 [==============================] - 40s 100ms/step - loss: 0.0501 - accuracy: 0.6266\n",
            "Epoch 6/25\n",
            "400/400 [==============================] - 40s 100ms/step - loss: 0.0421 - accuracy: 0.6908\n",
            "Epoch 7/25\n",
            "400/400 [==============================] - 40s 100ms/step - loss: 0.0388 - accuracy: 0.7196\n",
            "Epoch 8/25\n",
            "400/400 [==============================] - 40s 100ms/step - loss: 0.0364 - accuracy: 0.7373\n",
            "Epoch 9/25\n",
            "400/400 [==============================] - 40s 100ms/step - loss: 0.0345 - accuracy: 0.7518\n",
            "Epoch 10/25\n",
            "400/400 [==============================] - 40s 100ms/step - loss: 0.0331 - accuracy: 0.7641\n",
            "Epoch 11/25\n",
            "400/400 [==============================] - 45s 112ms/step - loss: 0.0319 - accuracy: 0.7741\n",
            "Epoch 12/25\n",
            "400/400 [==============================] - 40s 100ms/step - loss: 0.0306 - accuracy: 0.7832\n",
            "Epoch 13/25\n",
            "400/400 [==============================] - 40s 100ms/step - loss: 0.0295 - accuracy: 0.7927\n",
            "Epoch 14/25\n",
            "400/400 [==============================] - 40s 100ms/step - loss: 0.0286 - accuracy: 0.8002\n",
            "Epoch 15/25\n",
            "400/400 [==============================] - 40s 100ms/step - loss: 0.0279 - accuracy: 0.8049\n",
            "Epoch 16/25\n",
            "400/400 [==============================] - 40s 100ms/step - loss: 0.0273 - accuracy: 0.8080\n",
            "Epoch 17/25\n",
            "400/400 [==============================] - 40s 100ms/step - loss: 0.0267 - accuracy: 0.8135\n",
            "Epoch 18/25\n",
            "400/400 [==============================] - 40s 100ms/step - loss: 0.0260 - accuracy: 0.8201\n",
            "Epoch 19/25\n",
            "400/400 [==============================] - 40s 100ms/step - loss: 0.0256 - accuracy: 0.8217\n",
            "Epoch 20/25\n",
            "400/400 [==============================] - 40s 100ms/step - loss: 0.0252 - accuracy: 0.8250\n",
            "Epoch 21/25\n",
            "400/400 [==============================] - 40s 100ms/step - loss: 0.0247 - accuracy: 0.8292\n",
            "Epoch 22/25\n",
            "400/400 [==============================] - 40s 100ms/step - loss: 0.0243 - accuracy: 0.8326\n",
            "Epoch 23/25\n",
            "400/400 [==============================] - 40s 100ms/step - loss: 0.0239 - accuracy: 0.8354\n",
            "Epoch 24/25\n",
            "400/400 [==============================] - 40s 100ms/step - loss: 0.0235 - accuracy: 0.8375\n",
            "Epoch 25/25\n",
            "400/400 [==============================] - 40s 100ms/step - loss: 0.0232 - accuracy: 0.8392\n"
          ],
          "name": "stdout"
        },
        {
          "output_type": "execute_result",
          "data": {
            "text/plain": [
              "<tensorflow.python.keras.callbacks.History at 0x7fda2e78ecc0>"
            ]
          },
          "metadata": {
            "tags": []
          },
          "execution_count": 23
        }
      ]
    },
    {
      "cell_type": "code",
      "metadata": {
        "id": "XpwL5QPK-2de",
        "colab_type": "code",
        "colab": {
          "base_uri": "https://localhost:8080/",
          "height": 335
        },
        "outputId": "9c5b55fd-63a4-47f2-cf3a-747dcee0c912"
      },
      "source": [
        "y_predict = model.predict_classes(x_test)\n",
        "n = input('>>')\n",
        "n = int(n)\n",
        "print('CNN預測:',class_names[y_predict[n]])\n",
        "print('正確答案為:',class_names[y_test[n]])\n",
        "plt.imshow(x_test[n].reshape(28,28), cmap='Greys')"
      ],
      "execution_count": 36,
      "outputs": [
        {
          "output_type": "stream",
          "text": [
            ">>4\n",
            "CNN預測: Shirt\n",
            "正確答案為: Shirt\n"
          ],
          "name": "stdout"
        },
        {
          "output_type": "execute_result",
          "data": {
            "text/plain": [
              "<matplotlib.image.AxesImage at 0x7fda2b334be0>"
            ]
          },
          "metadata": {
            "tags": []
          },
          "execution_count": 36
        },
        {
          "output_type": "display_data",
          "data": {
            "image/png": "[encoded data removed]",
            "text/plain": [
              "<Figure size 432x288 with 1 Axes>"
            ]
          },
          "metadata": {
            "tags": [],
            "needs_background": "light"
          }
        }
      ]
    },
    {
      "cell_type": "code",
      "metadata": {
        "id": "vcFBa3qEElfN",
        "colab_type": "code",
        "colab": {
          "base_uri": "https://localhost:8080/",
          "height": 55
        },
        "outputId": "a2890b3e-d131-4544-8874-5e62fc6558b9"
      },
      "source": [
        "score = model.evaluate(x_test, y_test_)"
      ],
      "execution_count": 37,
      "outputs": [
        {
          "output_type": "stream",
          "text": [
            "313/313 [==============================] - 3s 10ms/step - loss: 0.0237 - accuracy: 0.8381\n"
          ],
          "name": "stdout"
        }
      ]
    },
    {
      "cell_type": "code",
      "metadata": {
        "id": "ZQbV3BMhFtN1",
        "colab_type": "code",
        "colab": {
          "base_uri": "https://localhost:8080/",
          "height": 35
        },
        "outputId": "14604aeb-efe8-4796-dd2f-4a2b27988a5d"
      },
      "source": [
        "score"
      ],
      "execution_count": 38,
      "outputs": [
        {
          "output_type": "execute_result",
          "data": {
            "text/plain": [
              "[0.023718591779470444, 0.838100016117096]"
            ]
          },
          "metadata": {
            "tags": []
          },
          "execution_count": 38
        }
      ]
    },
    {
      "cell_type": "code",
      "metadata": {
        "id": "p9EZy0u_GZ1A",
        "colab_type": "code",
        "colab": {
          "base_uri": "https://localhost:8080/",
          "height": 35
        },
        "outputId": "693b0bb4-06e0-4480-de30-677f2eacd2ca"
      },
      "source": [
        "print('準確率:', score[1])"
      ],
      "execution_count": 39,
      "outputs": [
        {
          "output_type": "stream",
          "text": [
            "準確率: 0.838100016117096\n"
          ],
          "name": "stdout"
        }
      ]
    },
    {
      "cell_type": "code",
      "metadata": {
        "id": "MJG8UT50Gs5P",
        "colab_type": "code",
        "colab": {}
      },
      "source": [
        ""
      ],
      "execution_count": 0,
      "outputs": []
    }
  ]
}