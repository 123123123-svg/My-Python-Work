{
  "nbformat": 4,
  "nbformat_minor": 0,
  "metadata": {
    "colab": {
      "name": "神經網路.ipynb",
      "provenance": [],
      "collapsed_sections": []
    },
    "kernelspec": {
      "name": "python3",
      "display_name": "Python 3"
    }
  },
  "cells": [
    {
      "cell_type": "code",
      "metadata": {
        "id": "F5vmm1L_xhF-",
        "colab_type": "code",
        "colab": {}
      },
      "source": [
        "import tensorflow as tf\n",
        "import numpy as np\n",
        "from tensorflow.keras.datasets import fashion_mnist"
      ],
      "execution_count": 0,
      "outputs": []
    },
    {
      "cell_type": "code",
      "metadata": {
        "id": "vAcOKg0yzA2a",
        "colab_type": "code",
        "colab": {}
      },
      "source": [
        "(x_train, y_train), (x_test, y_test) = fashion_mnist.load_data()\n"
      ],
      "execution_count": 0,
      "outputs": []
    },
    {
      "cell_type": "code",
      "metadata": {
        "id": "BWW8zSvCzbZ8",
        "colab_type": "code",
        "colab": {
          "base_uri": "https://localhost:8080/",
          "height": 35
        },
        "outputId": "824eb7d3-81ed-4c32-9b82-ef5509ac8e4e"
      },
      "source": [
        "y_train[:5]"
      ],
      "execution_count": 3,
      "outputs": [
        {
          "output_type": "execute_result",
          "data": {
            "text/plain": [
              "array([9, 0, 0, 3, 0], dtype=uint8)"
            ]
          },
          "metadata": {
            "tags": []
          },
          "execution_count": 3
        }
      ]
    },
    {
      "cell_type": "code",
      "metadata": {
        "id": "rOigk7GpzjAb",
        "colab_type": "code",
        "colab": {}
      },
      "source": [
        "class_names = ['T-shirt/top', 'Trouser', 'Pullover', 'Dress', 'Coat',\n",
        "               'Sandal', 'Shirt', 'Sneaker', 'Bag', 'Ankle boot']\n"
      ],
      "execution_count": 0,
      "outputs": []
    },
    {
      "cell_type": "code",
      "metadata": {
        "id": "4RC3IuHM0Ixi",
        "colab_type": "code",
        "colab": {}
      },
      "source": [
        "import matplotlib.pyplot as plt"
      ],
      "execution_count": 0,
      "outputs": []
    },
    {
      "cell_type": "code",
      "metadata": {
        "id": "-dbVSAHJz9wZ",
        "colab_type": "code",
        "colab": {
          "base_uri": "https://localhost:8080/",
          "height": 283
        },
        "outputId": "2023864a-1533-494d-bb92-026f63c79e65"
      },
      "source": [
        "n = 600\n",
        "print( class_names[y_train[n]])\n",
        "plt.imshow(x_train[n], cmap='Greys');"
      ],
      "execution_count": 6,
      "outputs": [
        {
          "output_type": "stream",
          "text": [
            "T-shirt/top\n"
          ],
          "name": "stdout"
        },
        {
          "output_type": "display_data",
          "data": {
            "image/png": "[encoded data removed]",
            "text/plain": [
              "<Figure size 432x288 with 1 Axes>"
            ]
          },
          "metadata": {
            "tags": []
          }
        }
      ]
    },
    {
      "cell_type": "code",
      "metadata": {
        "id": "fvIclYCg0F0O",
        "colab_type": "code",
        "colab": {}
      },
      "source": [
        "x_train = x_train / 255\n",
        "x_test = x_test / 255"
      ],
      "execution_count": 0,
      "outputs": []
    },
    {
      "cell_type": "code",
      "metadata": {
        "id": "-CT7wVUG0nfV",
        "colab_type": "code",
        "colab": {}
      },
      "source": [
        "x_train = x_train.reshape(60000,784)\n",
        "x_test = x_test.reshape(10000,784)"
      ],
      "execution_count": 0,
      "outputs": []
    },
    {
      "cell_type": "code",
      "metadata": {
        "id": "O9T3_y8n0sNP",
        "colab_type": "code",
        "colab": {}
      },
      "source": [
        "from tensorflow.keras.utils import to_categorical"
      ],
      "execution_count": 0,
      "outputs": []
    },
    {
      "cell_type": "code",
      "metadata": {
        "id": "KNU6b8-005Ce",
        "colab_type": "code",
        "colab": {}
      },
      "source": [
        "li = np.array([0,4,6])"
      ],
      "execution_count": 0,
      "outputs": []
    },
    {
      "cell_type": "code",
      "metadata": {
        "id": "e48K5xmZ0-8z",
        "colab_type": "code",
        "colab": {
          "base_uri": "https://localhost:8080/",
          "height": 69
        },
        "outputId": "6148bdc8-49f9-421b-ed86-b4265af8e56c"
      },
      "source": [
        "to_categorical(li)"
      ],
      "execution_count": 11,
      "outputs": [
        {
          "output_type": "execute_result",
          "data": {
            "text/plain": [
              "array([[1., 0., 0., 0., 0., 0., 0.],\n",
              "       [0., 0., 0., 0., 1., 0., 0.],\n",
              "       [0., 0., 0., 0., 0., 0., 1.]], dtype=float32)"
            ]
          },
          "metadata": {
            "tags": []
          },
          "execution_count": 11
        }
      ]
    },
    {
      "cell_type": "code",
      "metadata": {
        "id": "GgWFMkj41DsY",
        "colab_type": "code",
        "colab": {}
      },
      "source": [
        "y_train = to_categorical(y_train, 10)"
      ],
      "execution_count": 0,
      "outputs": []
    },
    {
      "cell_type": "code",
      "metadata": {
        "id": "lghOQ9ig1v-N",
        "colab_type": "code",
        "colab": {}
      },
      "source": [
        "y_test = to_categorical(y_test, 10)"
      ],
      "execution_count": 0,
      "outputs": []
    },
    {
      "cell_type": "code",
      "metadata": {
        "id": "7eADUJBS1yx5",
        "colab_type": "code",
        "colab": {}
      },
      "source": [
        "from tensorflow.keras.models import Sequential\n",
        "from tensorflow.keras.layers import Dense\n",
        "from tensorflow.keras.optimizers import SGD"
      ],
      "execution_count": 0,
      "outputs": []
    },
    {
      "cell_type": "code",
      "metadata": {
        "id": "tuhZR3Yk12Sr",
        "colab_type": "code",
        "colab": {}
      },
      "source": [
        "model = Sequential()"
      ],
      "execution_count": 0,
      "outputs": []
    },
    {
      "cell_type": "code",
      "metadata": {
        "id": "wOGpJeMI1_iw",
        "colab_type": "code",
        "colab": {}
      },
      "source": [
        "model.add(Dense(87, input_dim = 784, activation = 'relu'))"
      ],
      "execution_count": 0,
      "outputs": []
    },
    {
      "cell_type": "code",
      "metadata": {
        "id": "Exet_6Rt2Jzd",
        "colab_type": "code",
        "colab": {}
      },
      "source": [
        "model.add(Dense(81, activation = 'relu'))\n",
        "model.add(Dense(32, activation = 'relu'))\n",
        "model.add(Dense(10, activation = 'softmax'))"
      ],
      "execution_count": 0,
      "outputs": []
    },
    {
      "cell_type": "code",
      "metadata": {
        "id": "XI-vyNfm2d7O",
        "colab_type": "code",
        "colab": {}
      },
      "source": [
        "model.compile(loss = 'mse', optimizer = SGD(lr = 0.04), metrics = ['accuracy'])"
      ],
      "execution_count": 0,
      "outputs": []
    },
    {
      "cell_type": "code",
      "metadata": {
        "id": "r2Vu4Fgd2ybZ",
        "colab_type": "code",
        "colab": {
          "base_uri": "https://localhost:8080/",
          "height": 295
        },
        "outputId": "c10c6c2d-8b1e-46b4-d278-42fa4a659c3c"
      },
      "source": [
        "model.summary()"
      ],
      "execution_count": 19,
      "outputs": [
        {
          "output_type": "stream",
          "text": [
            "Model: \"sequential\"\n",
            "_________________________________________________________________\n",
            "Layer (type)                 Output Shape              Param #   \n",
            "=================================================================\n",
            "dense (Dense)                (None, 87)                68295     \n",
            "_________________________________________________________________\n",
            "dense_1 (Dense)              (None, 81)                7128      \n",
            "_________________________________________________________________\n",
            "dense_2 (Dense)              (None, 32)                2624      \n",
            "_________________________________________________________________\n",
            "dense_3 (Dense)              (None, 10)                330       \n",
            "=================================================================\n",
            "Total params: 78,377\n",
            "Trainable params: 78,377\n",
            "Non-trainable params: 0\n",
            "_________________________________________________________________\n"
          ],
          "name": "stdout"
        }
      ]
    },
    {
      "cell_type": "code",
      "metadata": {
        "id": "D3N0Bor221NC",
        "colab_type": "code",
        "colab": {
          "base_uri": "https://localhost:8080/",
          "height": 728
        },
        "outputId": "2b54b77f-4243-4a7f-d805-9b0c7d7a05e3"
      },
      "source": [
        "model.fit(x_train, y_train, batch_size=50, epochs=20)"
      ],
      "execution_count": 20,
      "outputs": [
        {
          "output_type": "stream",
          "text": [
            "Epoch 1/20\n",
            "1200/1200 [==============================] - 2s 2ms/step - loss: 0.0796 - accuracy: 0.3508\n",
            "Epoch 2/20\n",
            "1200/1200 [==============================] - 2s 2ms/step - loss: 0.0525 - accuracy: 0.6439\n",
            "Epoch 3/20\n",
            "1200/1200 [==============================] - 2s 2ms/step - loss: 0.0410 - accuracy: 0.7149\n",
            "Epoch 4/20\n",
            "1200/1200 [==============================] - 2s 2ms/step - loss: 0.0349 - accuracy: 0.7672\n",
            "Epoch 5/20\n",
            "1200/1200 [==============================] - 2s 2ms/step - loss: 0.0312 - accuracy: 0.7927\n",
            "Epoch 6/20\n",
            "1200/1200 [==============================] - 2s 2ms/step - loss: 0.0289 - accuracy: 0.8070\n",
            "Epoch 7/20\n",
            "1200/1200 [==============================] - 2s 2ms/step - loss: 0.0272 - accuracy: 0.8173\n",
            "Epoch 8/20\n",
            "1200/1200 [==============================] - 2s 2ms/step - loss: 0.0260 - accuracy: 0.8253\n",
            "Epoch 9/20\n",
            "1200/1200 [==============================] - 2s 2ms/step - loss: 0.0251 - accuracy: 0.8310\n",
            "Epoch 10/20\n",
            "1200/1200 [==============================] - 2s 2ms/step - loss: 0.0244 - accuracy: 0.8353\n",
            "Epoch 11/20\n",
            "1200/1200 [==============================] - 2s 2ms/step - loss: 0.0237 - accuracy: 0.8395\n",
            "Epoch 12/20\n",
            "1200/1200 [==============================] - 2s 2ms/step - loss: 0.0232 - accuracy: 0.8436\n",
            "Epoch 13/20\n",
            "1200/1200 [==============================] - 2s 2ms/step - loss: 0.0228 - accuracy: 0.8461\n",
            "Epoch 14/20\n",
            "1200/1200 [==============================] - 2s 2ms/step - loss: 0.0224 - accuracy: 0.8482\n",
            "Epoch 15/20\n",
            "1200/1200 [==============================] - 2s 2ms/step - loss: 0.0221 - accuracy: 0.8508\n",
            "Epoch 16/20\n",
            "1200/1200 [==============================] - 2s 2ms/step - loss: 0.0218 - accuracy: 0.8529\n",
            "Epoch 17/20\n",
            "1200/1200 [==============================] - 2s 2ms/step - loss: 0.0216 - accuracy: 0.8546\n",
            "Epoch 18/20\n",
            "1200/1200 [==============================] - 2s 2ms/step - loss: 0.0214 - accuracy: 0.8555\n",
            "Epoch 19/20\n",
            "1200/1200 [==============================] - 2s 2ms/step - loss: 0.0212 - accuracy: 0.8572\n",
            "Epoch 20/20\n",
            "1200/1200 [==============================] - 2s 2ms/step - loss: 0.0209 - accuracy: 0.8595\n"
          ],
          "name": "stdout"
        },
        {
          "output_type": "execute_result",
          "data": {
            "text/plain": [
              "<tensorflow.python.keras.callbacks.History at 0x7f69b2a4ac88>"
            ]
          },
          "metadata": {
            "tags": []
          },
          "execution_count": 20
        }
      ]
    },
    {
      "cell_type": "code",
      "metadata": {
        "id": "OfI7XEad3B4F",
        "colab_type": "code",
        "colab": {
          "base_uri": "https://localhost:8080/",
          "height": 728
        },
        "outputId": "2bbbb368-65b8-4203-f554-5defcf5267f9"
      },
      "source": [
        "model.fit(x_train, y_train, batch_size=100, epochs=20)"
      ],
      "execution_count": 21,
      "outputs": [
        {
          "output_type": "stream",
          "text": [
            "Epoch 1/20\n",
            "600/600 [==============================] - 2s 3ms/step - loss: 0.0206 - accuracy: 0.8616\n",
            "Epoch 2/20\n",
            "600/600 [==============================] - 2s 3ms/step - loss: 0.0205 - accuracy: 0.8616\n",
            "Epoch 3/20\n",
            "600/600 [==============================] - 2s 3ms/step - loss: 0.0204 - accuracy: 0.8628\n",
            "Epoch 4/20\n",
            "600/600 [==============================] - 2s 3ms/step - loss: 0.0203 - accuracy: 0.8640\n",
            "Epoch 5/20\n",
            "600/600 [==============================] - 2s 3ms/step - loss: 0.0202 - accuracy: 0.8641\n",
            "Epoch 6/20\n",
            "600/600 [==============================] - 2s 3ms/step - loss: 0.0201 - accuracy: 0.8659\n",
            "Epoch 7/20\n",
            "600/600 [==============================] - 2s 3ms/step - loss: 0.0200 - accuracy: 0.8647\n",
            "Epoch 8/20\n",
            "600/600 [==============================] - 2s 3ms/step - loss: 0.0199 - accuracy: 0.8659\n",
            "Epoch 9/20\n",
            "600/600 [==============================] - 2s 3ms/step - loss: 0.0198 - accuracy: 0.8663\n",
            "Epoch 10/20\n",
            "600/600 [==============================] - 2s 3ms/step - loss: 0.0198 - accuracy: 0.8667\n",
            "Epoch 11/20\n",
            "600/600 [==============================] - 2s 3ms/step - loss: 0.0197 - accuracy: 0.8670\n",
            "Epoch 12/20\n",
            "600/600 [==============================] - 2s 3ms/step - loss: 0.0196 - accuracy: 0.8676\n",
            "Epoch 13/20\n",
            "600/600 [==============================] - 2s 3ms/step - loss: 0.0196 - accuracy: 0.8679\n",
            "Epoch 14/20\n",
            "600/600 [==============================] - 2s 3ms/step - loss: 0.0195 - accuracy: 0.8689\n",
            "Epoch 15/20\n",
            "600/600 [==============================] - 2s 3ms/step - loss: 0.0194 - accuracy: 0.8694\n",
            "Epoch 16/20\n",
            "600/600 [==============================] - 2s 3ms/step - loss: 0.0193 - accuracy: 0.8699\n",
            "Epoch 17/20\n",
            "600/600 [==============================] - 2s 3ms/step - loss: 0.0193 - accuracy: 0.8708\n",
            "Epoch 18/20\n",
            "600/600 [==============================] - 2s 3ms/step - loss: 0.0192 - accuracy: 0.8714\n",
            "Epoch 19/20\n",
            "600/600 [==============================] - 2s 3ms/step - loss: 0.0192 - accuracy: 0.8717\n",
            "Epoch 20/20\n",
            "600/600 [==============================] - 2s 3ms/step - loss: 0.0191 - accuracy: 0.8716\n"
          ],
          "name": "stdout"
        },
        {
          "output_type": "execute_result",
          "data": {
            "text/plain": [
              "<tensorflow.python.keras.callbacks.History at 0x7f69afba4be0>"
            ]
          },
          "metadata": {
            "tags": []
          },
          "execution_count": 21
        }
      ]
    },
    {
      "cell_type": "code",
      "metadata": {
        "id": "GZPHahmR3W_i",
        "colab_type": "code",
        "colab": {
          "base_uri": "https://localhost:8080/",
          "height": 901
        },
        "outputId": "bba5da1f-a4b3-47a3-f7b0-c51872c42a9f"
      },
      "source": [
        "model.fit(x_train, y_train, batch_size=150, epochs=25)"
      ],
      "execution_count": 22,
      "outputs": [
        {
          "output_type": "stream",
          "text": [
            "Epoch 1/25\n",
            "400/400 [==============================] - 1s 3ms/step - loss: 0.0189 - accuracy: 0.8734\n",
            "Epoch 2/25\n",
            "400/400 [==============================] - 1s 3ms/step - loss: 0.0189 - accuracy: 0.8727\n",
            "Epoch 3/25\n",
            "400/400 [==============================] - 1s 3ms/step - loss: 0.0189 - accuracy: 0.8731\n",
            "Epoch 4/25\n",
            "400/400 [==============================] - 1s 3ms/step - loss: 0.0188 - accuracy: 0.8736\n",
            "Epoch 5/25\n",
            "400/400 [==============================] - 1s 3ms/step - loss: 0.0188 - accuracy: 0.8742\n",
            "Epoch 6/25\n",
            "400/400 [==============================] - 1s 3ms/step - loss: 0.0187 - accuracy: 0.8741\n",
            "Epoch 7/25\n",
            "400/400 [==============================] - 1s 3ms/step - loss: 0.0187 - accuracy: 0.8741\n",
            "Epoch 8/25\n",
            "400/400 [==============================] - 1s 3ms/step - loss: 0.0186 - accuracy: 0.8756\n",
            "Epoch 9/25\n",
            "400/400 [==============================] - 1s 3ms/step - loss: 0.0186 - accuracy: 0.8758\n",
            "Epoch 10/25\n",
            "400/400 [==============================] - 1s 3ms/step - loss: 0.0186 - accuracy: 0.8756\n",
            "Epoch 11/25\n",
            "400/400 [==============================] - 1s 3ms/step - loss: 0.0185 - accuracy: 0.8753\n",
            "Epoch 12/25\n",
            "400/400 [==============================] - 1s 3ms/step - loss: 0.0185 - accuracy: 0.8769\n",
            "Epoch 13/25\n",
            "400/400 [==============================] - 1s 3ms/step - loss: 0.0185 - accuracy: 0.8769\n",
            "Epoch 14/25\n",
            "400/400 [==============================] - 1s 3ms/step - loss: 0.0184 - accuracy: 0.8769\n",
            "Epoch 15/25\n",
            "400/400 [==============================] - 1s 3ms/step - loss: 0.0184 - accuracy: 0.8775\n",
            "Epoch 16/25\n",
            "400/400 [==============================] - 1s 3ms/step - loss: 0.0183 - accuracy: 0.8777\n",
            "Epoch 17/25\n",
            "400/400 [==============================] - 1s 3ms/step - loss: 0.0183 - accuracy: 0.8776\n",
            "Epoch 18/25\n",
            "400/400 [==============================] - 1s 3ms/step - loss: 0.0183 - accuracy: 0.8780\n",
            "Epoch 19/25\n",
            "400/400 [==============================] - 1s 3ms/step - loss: 0.0182 - accuracy: 0.8785\n",
            "Epoch 20/25\n",
            "400/400 [==============================] - 1s 3ms/step - loss: 0.0182 - accuracy: 0.8780\n",
            "Epoch 21/25\n",
            "400/400 [==============================] - 1s 3ms/step - loss: 0.0182 - accuracy: 0.8782\n",
            "Epoch 22/25\n",
            "400/400 [==============================] - 1s 3ms/step - loss: 0.0181 - accuracy: 0.8789\n",
            "Epoch 23/25\n",
            "400/400 [==============================] - 1s 3ms/step - loss: 0.0181 - accuracy: 0.8789\n",
            "Epoch 24/25\n",
            "400/400 [==============================] - 1s 3ms/step - loss: 0.0181 - accuracy: 0.8794\n",
            "Epoch 25/25\n",
            "400/400 [==============================] - 1s 3ms/step - loss: 0.0180 - accuracy: 0.8799\n"
          ],
          "name": "stdout"
        },
        {
          "output_type": "execute_result",
          "data": {
            "text/plain": [
              "<tensorflow.python.keras.callbacks.History at 0x7f69afb3e160>"
            ]
          },
          "metadata": {
            "tags": []
          },
          "execution_count": 22
        }
      ]
    },
    {
      "cell_type": "code",
      "metadata": {
        "id": "G1Kl1ALq35Z7",
        "colab_type": "code",
        "colab": {
          "base_uri": "https://localhost:8080/",
          "height": 89
        },
        "outputId": "dc6f6c0f-ae92-4053-8662-cb11b0d5a251"
      },
      "source": [
        "result = model.predict_classes(x_test)"
      ],
      "execution_count": 23,
      "outputs": [
        {
          "output_type": "stream",
          "text": [
            "WARNING:tensorflow:From <ipython-input-23-63af5bb2f9b6>:1: Sequential.predict_classes (from tensorflow.python.keras.engine.sequential) is deprecated and will be removed after 2021-01-01.\n",
            "Instructions for updating:\n",
            "Please use instead:* `np.argmax(model.predict(x), axis=-1)`,   if your model does multi-class classification   (e.g. if it uses a `softmax` last-layer activation).* `(model.predict(x) > 0.5).astype(\"int32\")`,   if your model does binary classification   (e.g. if it uses a `sigmoid` last-layer activation).\n"
          ],
          "name": "stdout"
        }
      ]
    },
    {
      "cell_type": "code",
      "metadata": {
        "id": "SqMJ8eJ34_7w",
        "colab_type": "code",
        "colab": {
          "base_uri": "https://localhost:8080/",
          "height": 300
        },
        "outputId": "d6fd2b6a-f77d-4384-93c5-0fe92487e5ae"
      },
      "source": [
        "n = 948\n",
        "print('神經網路預測是:',class_names[result[n]])\n",
        "plt.imshow(x_test[n].reshape(28,28), cmap='Greys')"
      ],
      "execution_count": 25,
      "outputs": [
        {
          "output_type": "stream",
          "text": [
            "神經網路預測是: T-shirt/top\n"
          ],
          "name": "stdout"
        },
        {
          "output_type": "execute_result",
          "data": {
            "text/plain": [
              "<matplotlib.image.AxesImage at 0x7f69aea18f28>"
            ]
          },
          "metadata": {
            "tags": []
          },
          "execution_count": 25
        },
        {
          "output_type": "display_data",
          "data": {
            "image/png": "[encoded data removed]",
            "text/plain": [
              "<Figure size 432x288 with 1 Axes>"
            ]
          },
          "metadata": {
            "tags": []
          }
        }
      ]
    },
    {
      "cell_type": "code",
      "metadata": {
        "id": "AJz70Zr75HF1",
        "colab_type": "code",
        "colab": {}
      },
      "source": [
        ""
      ],
      "execution_count": 0,
      "outputs": []
    }
  ]
}