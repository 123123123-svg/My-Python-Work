{
 "cells": [
  {
   "cell_type": "code",
   "execution_count": 5,
   "metadata": {},
   "outputs": [],
   "source": [
    "%matplotlib inline\n",
    "import numpy as np\n",
    "import matplotlib.pyplot as plt\n",
    "import pandas as pd\n",
    "import random"
   ]
  },
  {
   "cell_type": "code",
   "execution_count": 11,
   "metadata": {},
   "outputs": [
    {
     "name": "stdout",
     "output_type": "stream",
     "text": [
      "今日預算:200\n",
      "三餐費用:250\n",
      "交通費用:50\n",
      "其他支出:25\n",
      "透支125元要節儉啦\n"
     ]
    }
   ],
   "source": [
    "budget = int(input('今日預算:'))\n",
    "a = int(input('三餐費用:'))\n",
    "b = int(input('交通費用:'))\n",
    "c = int(input('其他支出:'))\n",
    "\n",
    "money = budget-a-b-c\n",
    "\n",
    "\n",
    "if money < 0 :\n",
    "    print('透支'+str(-money)+'元要節儉啦')\n",
    "else:\n",
    "    print('還有'+ str(money)+'元')"
   ]
  },
  {
   "cell_type": "code",
   "execution_count": null,
   "metadata": {},
   "outputs": [],
   "source": []
  }
 ],
 "metadata": {
  "kernelspec": {
   "display_name": "Python 3",
   "language": "python",
   "name": "python3"
  },
  "language_info": {
   "codemirror_mode": {
    "name": "ipython",
    "version": 3
   },
   "file_extension": ".py",
   "mimetype": "text/x-python",
   "name": "python",
   "nbconvert_exporter": "python",
   "pygments_lexer": "ipython3",
   "version": "3.7.3"
  }
 },
 "nbformat": 4,
 "nbformat_minor": 2
}
